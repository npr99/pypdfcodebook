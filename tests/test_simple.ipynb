{
 "cells": [
  {
   "cell_type": "code",
   "execution_count": 1,
   "id": "379a433f",
   "metadata": {},
   "outputs": [],
   "source": [
    "import sample_test_package as pkg"
   ]
  },
  {
   "cell_type": "code",
   "execution_count": 2,
   "id": "a2394181",
   "metadata": {},
   "outputs": [
    {
     "name": "stdout",
     "output_type": "stream",
     "text": [
      "Help on package sample_test_package:\n",
      "\n",
      "NAME\n",
      "    sample_test_package\n",
      "\n",
      "PACKAGE CONTENTS\n",
      "\n",
      "\n",
      "FUNCTIONS\n",
      "    add_num(a: float, b: float) -> float\n",
      "        Return the sum of *a* and *b*.\n",
      "\n",
      "        Examples\n",
      "        --------\n",
      "        >>> add_num(2, 3)\n",
      "        5\n",
      "\n",
      "    subtract_num(a: float, b: float) -> float\n",
      "        Return the difference of *a* and *b*.\n",
      "\n",
      "        Examples\n",
      "        --------\n",
      "        >>> subtract_num(2, 3)\n",
      "        -1\n",
      "\n",
      "FILE\n",
      "    c:\\users\\nathanael99\\appdata\\local\\miniconda3\\envs\\pycodebook\\lib\\site-packages\\sample_test_package\\__init__.py\n",
      "\n",
      "\n"
     ]
    }
   ],
   "source": [
    "help(pkg)"
   ]
  },
  {
   "cell_type": "code",
   "execution_count": 3,
   "id": "2548e7ac",
   "metadata": {},
   "outputs": [
    {
     "data": {
      "text/plain": [
       "5"
      ]
     },
     "execution_count": 3,
     "metadata": {},
     "output_type": "execute_result"
    }
   ],
   "source": [
    "pkg.add_num(2, 3)"
   ]
  },
  {
   "cell_type": "code",
   "execution_count": 4,
   "id": "7ee049e5",
   "metadata": {},
   "outputs": [
    {
     "data": {
      "text/plain": [
       "12"
      ]
     },
     "execution_count": 4,
     "metadata": {},
     "output_type": "execute_result"
    }
   ],
   "source": [
    "pkg.add_num(2, 10)"
   ]
  },
  {
   "cell_type": "code",
   "execution_count": 5,
   "id": "38c49cf8",
   "metadata": {},
   "outputs": [
    {
     "data": {
      "text/plain": [
       "-8"
      ]
     },
     "execution_count": 5,
     "metadata": {},
     "output_type": "execute_result"
    }
   ],
   "source": [
    "pkg.subtract_num(2, 10)"
   ]
  }
 ],
 "metadata": {
  "kernelspec": {
   "display_name": "pycodebook",
   "language": "python",
   "name": "python3"
  },
  "language_info": {
   "codemirror_mode": {
    "name": "ipython",
    "version": 3
   },
   "file_extension": ".py",
   "mimetype": "text/x-python",
   "name": "python",
   "nbconvert_exporter": "python",
   "pygments_lexer": "ipython3",
   "version": "3.12.11"
  }
 },
 "nbformat": 4,
 "nbformat_minor": 5
}
