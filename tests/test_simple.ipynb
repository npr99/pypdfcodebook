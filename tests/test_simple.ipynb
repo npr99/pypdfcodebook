{
 "cells": [
  {
   "cell_type": "code",
   "execution_count": 4,
   "id": "bdd400dc",
   "metadata": {},
   "outputs": [],
   "source": [
    "import os\n",
    "import pandas as pd\n",
    "import importlib.util"
   ]
  },
  {
   "cell_type": "code",
   "execution_count": 16,
   "id": "379a433f",
   "metadata": {},
   "outputs": [
    {
     "name": "stdout",
     "output_type": "stream",
     "text": [
      "Notebook directory: c:\\Users\\nathanael99\\MyProjects\\GitHub\\pypdfcodebook\n",
      "Looking for sample data in: c:\\Users\\nathanael99\\MyProjects\\GitHub\\pypdfcodebook\\sample_data\n"
     ]
    },
    {
     "data": {
      "text/html": [
       "<div>\n",
       "<style scoped>\n",
       "    .dataframe tbody tr th:only-of-type {\n",
       "        vertical-align: middle;\n",
       "    }\n",
       "\n",
       "    .dataframe tbody tr th {\n",
       "        vertical-align: top;\n",
       "    }\n",
       "\n",
       "    .dataframe thead th {\n",
       "        text-align: right;\n",
       "    }\n",
       "</style>\n",
       "<table border=\"1\" class=\"dataframe\">\n",
       "  <thead>\n",
       "    <tr style=\"text-align: right;\">\n",
       "      <th></th>\n",
       "      <th>huid</th>\n",
       "      <th>blockid</th>\n",
       "      <th>numprec</th>\n",
       "      <th>ownershp</th>\n",
       "    </tr>\n",
       "  </thead>\n",
       "  <tbody>\n",
       "    <tr>\n",
       "      <th>0</th>\n",
       "      <td>B371559601011003H001</td>\n",
       "      <td>3.715600e+14</td>\n",
       "      <td>1</td>\n",
       "      <td>1</td>\n",
       "    </tr>\n",
       "    <tr>\n",
       "      <th>1</th>\n",
       "      <td>B371559601011005H001</td>\n",
       "      <td>3.715600e+14</td>\n",
       "      <td>1</td>\n",
       "      <td>1</td>\n",
       "    </tr>\n",
       "    <tr>\n",
       "      <th>2</th>\n",
       "      <td>B371559601011006H001</td>\n",
       "      <td>3.715600e+14</td>\n",
       "      <td>1</td>\n",
       "      <td>1</td>\n",
       "    </tr>\n",
       "    <tr>\n",
       "      <th>3</th>\n",
       "      <td>B371559601011006H002</td>\n",
       "      <td>3.715600e+14</td>\n",
       "      <td>1</td>\n",
       "      <td>1</td>\n",
       "    </tr>\n",
       "    <tr>\n",
       "      <th>4</th>\n",
       "      <td>B371559601011007H006</td>\n",
       "      <td>3.715600e+14</td>\n",
       "      <td>1</td>\n",
       "      <td>2</td>\n",
       "    </tr>\n",
       "  </tbody>\n",
       "</table>\n",
       "</div>"
      ],
      "text/plain": [
       "                   huid       blockid  numprec  ownershp\n",
       "0  B371559601011003H001  3.715600e+14        1         1\n",
       "1  B371559601011005H001  3.715600e+14        1         1\n",
       "2  B371559601011006H001  3.715600e+14        1         1\n",
       "3  B371559601011006H002  3.715600e+14        1         1\n",
       "4  B371559601011007H006  3.715600e+14        1         2"
      ]
     },
     "execution_count": 16,
     "metadata": {},
     "output_type": "execute_result"
    }
   ],
   "source": [
    "# locate the sample data directory\n",
    "try:\n",
    "    # When running as a script\n",
    "    sample_dir = os.path.join(os.path.dirname(__file__), '..', 'sample_data')\n",
    "except NameError:\n",
    "    # When running in Jupyter notebook\n",
    "    notebook_dir = os.path.dirname(os.path.abspath(''))\n",
    "    print(f\"Notebook directory: {notebook_dir}\")\n",
    "    sample_dir = os.path.join(notebook_dir, 'sample_data')\n",
    "\n",
    "\n",
    "print(f\"Looking for sample data in: {sample_dir}\")\n",
    "\n",
    "projectoverview_path = os.path.join(sample_dir, 'pdfcb_00a_projectoverview.md')\n",
    "keyterms_path = os.path.join(sample_dir,        'pdfcb_00b_keyterms.md')\n",
    "csv_path = os.path.join(sample_dir,             'pdfcb_00c_sampledata.csv')\n",
    "datastructure_path = os.path.join(sample_dir,   'pdfcb_00d_data_structure.py')\n",
    "banner_path = os.path.join(sample_dir, 'IN-CORE_HRRC_Banner.png')\n",
    "figure_path = os.path.join(sample_dir, 'pdfcb_00e_sampleimage.jpg')\n",
    "\n",
    "# Check if paths exist, else set to empty string\n",
    "projectoverview_path = projectoverview_path if os.path.exists(projectoverview_path) else \"\"\n",
    "keyterms_path = keyterms_path if os.path.exists(keyterms_path) else \"\"\n",
    "csv_path = csv_path if os.path.exists(csv_path) else \"\"\n",
    "datastructure_path = datastructure_path if os.path.exists(datastructure_path) else \"\"\n",
    "banner_path = banner_path if os.path.exists(banner_path) else None\n",
    "figure_path = figure_path if os.path.exists(figure_path) else None\n",
    "\n",
    "# Load CSV\n",
    "input_df = pd.read_csv(csv_path)\n",
    "input_df.head()"
   ]
  },
  {
   "cell_type": "code",
   "execution_count": 7,
   "id": "9e4e116d",
   "metadata": {},
   "outputs": [
    {
     "name": "stdout",
     "output_type": "stream",
     "text": [
      "Data structure loaded: {'huid': {'label': 'Housing Unit ID', 'DataType': 'String', 'pyType': <class 'str'>, 'AnalysisUnit': 'Housing unit', 'MeasureUnit': 'Housing units', 'notes': '1. Primary Key for sample data. '}, 'blockid': {'label': 'Block ID', 'huiv3-0-0': 'Block2010', 'formula': \"output_df['blockid'].apply(lambda x :str(int(x)).zfill(15))\", 'DataType': 'String', 'pyType': <class 'str'>, 'AnalysisUnit': 'Geographic unit', 'MeasureUnit': 'Housing unit in census block', 'length': 15, 'zero_padded': True, 'notes': '1. 2010 Census Block ID'}, 'numprec': {'label': 'Number of Person Records', 'DataType': 'Int', 'pyType': <class 'int'>, 'AnalysisUnit': 'Housing unit', 'MeasureUnit': 'Persons'}, 'ownershp': {'label': 'Tenure Status', 'DataType': 'Int', 'pyType': 'category', 'categorical': True, 'AnalysisUnit': 'Household', 'MeasureUnit': 'Housing unit', 'categories_dict': {1: '1. Owned or being bought (loan)', 2: '2. Rented'}, 'categories': ['1. Owned or being bought (loan)', '2. Rented'], 'notes': '1. Based on 2010 Census SF1 Table H16. \\n \\n2. Tenure status is not applicable for vacant not occupied housing units. \\n \\n3. Tenure status is not applicable for group quarters. \\n \\n4. To verify results compare table to: \\n \\nhttps://data.census.gov/cedsci/table?g=0500000US{state_county}&tid=DECENNIALSF12010.H16.', 'primary_key': 'huid', 'pop_var': 'numprec'}}\n"
     ]
    }
   ],
   "source": [
    "# Load data structure dict from .py file\n",
    "spec = importlib.util.spec_from_file_location(\"pdfcb_00d_data_structure\", datastructure_path)\n",
    "if spec is None or spec.loader is None:\n",
    "    raise ImportError(f\"Could not load module from {datastructure_path}\")\n",
    "ds_module = importlib.util.module_from_spec(spec)\n",
    "spec.loader.exec_module(ds_module)\n",
    "datastructure = ds_module.DATA_STRUCTURE\n",
    "print(f\"Data structure loaded: {datastructure}\")"
   ]
  },
  {
   "cell_type": "code",
   "execution_count": 12,
   "id": "b5100d72",
   "metadata": {},
   "outputs": [
    {
     "name": "stdout",
     "output_type": "stream",
     "text": [
      "Notebook directory: c:\\Users\\nathanael99\\MyProjects\\GitHub\\pypdfcodebook\n",
      "Looking for tests directory in: c:\\Users\\nathanael99\\MyProjects\\GitHub\\pypdfcodebook\\tests\n",
      "Output will be saved to: c:\\Users\\nathanael99\\MyProjects\\GitHub\\pypdfcodebook\\tests\\test_codebook_with_images.pdf\n",
      "Output folders set to: {'top': 'c:\\\\Users\\\\nathanael99\\\\MyProjects\\\\GitHub\\\\pypdfcodebook\\\\tests'}\n"
     ]
    }
   ],
   "source": [
    "# locate the test data directory\n",
    "try:\n",
    "    # When running as a script\n",
    "    tests_dir = os.path.dirname(__file__)\n",
    "except NameError:\n",
    "    # When running in Jupyter notebook\n",
    "    notebook_dir = os.path.dirname(os.path.abspath(''))\n",
    "    print(f\"Notebook directory: {notebook_dir}\")\n",
    "    tests_dir = os.path.join(notebook_dir, 'tests')\n",
    "print(f\"Looking for tests directory in: {tests_dir}\")\n",
    "\n",
    "# Set up output in tests directory\n",
    "output_filename_path = os.path.join(tests_dir, \"test_codebook_with_images.pdf\")\n",
    "output_filename = \"test_codebook_with_images\"\n",
    "outputfolders = {'top': tests_dir}\n",
    "print(f\"Output will be saved to: {output_filename_path}\")\n",
    "print(f\"Output folders set to: {outputfolders}\")"
   ]
  },
  {
   "cell_type": "code",
   "execution_count": 17,
   "id": "8e8ba8d9",
   "metadata": {},
   "outputs": [
    {
     "name": "stdout",
     "output_type": "stream",
     "text": [
      "Banner path: c:\\Users\\nathanael99\\MyProjects\\GitHub\\pypdfcodebook\\sample_data\\IN-CORE_HRRC_Banner.png\n"
     ]
    }
   ],
   "source": [
    "print(f\"Banner path: {banner_path}\")\n"
   ]
  },
  {
   "cell_type": "code",
   "execution_count": 19,
   "id": "0b84bdf5",
   "metadata": {},
   "outputs": [
    {
     "name": "stdout",
     "output_type": "stream",
     "text": [
      "c:\\Users\\nathanael99\\MyProjects\\GitHub\\pypdfcodebook\\sample_data\\IN-CORE_HRRC_Banner.png c:\\Users\\nathanael99\\MyProjects\\GitHub\\pypdfcodebook\\sample_data\\pdfcb_00e_sampleimage.jpg\n",
      "Banner extension: .png\n",
      "Banner to use: c:\\Users\\nathanael99\\MyProjects\\GitHub\\pypdfcodebook\\sample_data\\IN-CORE_HRRC_Banner.png\n"
     ]
    }
   ],
   "source": [
    "# Check image formats before PDF creation\n",
    "supported_exts = {'.png', '.jpg', '.jpeg', '.bmp', '.gif', '.tif', '.tiff'}\n",
    "print(banner_path, figure_path)\n",
    "if banner_path != \"\":\n",
    "    banner_ext = os.path.splitext(banner_path)[1].lower()\n",
    "    print(f\"Banner extension: {banner_ext}\")\n",
    "    banner_to_use = banner_path if banner_ext in supported_exts else \"\"\n",
    "    if banner_to_use == \"\":\n",
    "        print(f\"Skipping unsupported banner image format: {banner_path}\")\n",
    "else:\n",
    "    banner_to_use = \"\"\n",
    "\n",
    "print(f\"Banner to use: {banner_to_use}\")\n"
   ]
  },
  {
   "cell_type": "code",
   "execution_count": null,
   "id": "efaed68e",
   "metadata": {},
   "outputs": [],
   "source": [
    "if figure_path is not None:\n",
    "    figure_ext = os.path.splitext(figure_path)[1].lower()\n",
    "    figure_to_use = figure_path if figure_ext in supported_exts else None\n",
    "    if figure_to_use is None:\n",
    "        print(f\"Skipping unsupported figure image format: {figure_path}\")\n",
    "else:\n",
    "    figure_to_use = None\n",
    "\n",
    "# Pass figures as a list if valid, else None\n",
    "figures_param = [figure_to_use] if figure_to_use else None\n",
    "print(f\"Figures to include: {figures_param}\")\n",
    "print(f\"Banner to include: {banner_to_use}\")"
   ]
  },
  {
   "cell_type": "code",
   "execution_count": 2,
   "id": "a2394181",
   "metadata": {},
   "outputs": [
    {
     "name": "stdout",
     "output_type": "stream",
     "text": [
      "Help on package sample_test_package:\n",
      "\n",
      "NAME\n",
      "    sample_test_package\n",
      "\n",
      "PACKAGE CONTENTS\n",
      "\n",
      "\n",
      "FUNCTIONS\n",
      "    add_num(a: float, b: float) -> float\n",
      "        Return the sum of *a* and *b*.\n",
      "\n",
      "        Examples\n",
      "        --------\n",
      "        >>> add_num(2, 3)\n",
      "        5\n",
      "\n",
      "    subtract_num(a: float, b: float) -> float\n",
      "        Return the difference of *a* and *b*.\n",
      "\n",
      "        Examples\n",
      "        --------\n",
      "        >>> subtract_num(2, 3)\n",
      "        -1\n",
      "\n",
      "FILE\n",
      "    c:\\users\\nathanael99\\appdata\\local\\miniconda3\\envs\\pycodebook\\lib\\site-packages\\sample_test_package\\__init__.py\n",
      "\n",
      "\n"
     ]
    }
   ],
   "source": [
    "help(pkg)"
   ]
  },
  {
   "cell_type": "code",
   "execution_count": 3,
   "id": "2548e7ac",
   "metadata": {},
   "outputs": [
    {
     "data": {
      "text/plain": [
       "5"
      ]
     },
     "execution_count": 3,
     "metadata": {},
     "output_type": "execute_result"
    }
   ],
   "source": [
    "pkg.add_num(2, 3)"
   ]
  },
  {
   "cell_type": "code",
   "execution_count": 4,
   "id": "7ee049e5",
   "metadata": {},
   "outputs": [
    {
     "data": {
      "text/plain": [
       "12"
      ]
     },
     "execution_count": 4,
     "metadata": {},
     "output_type": "execute_result"
    }
   ],
   "source": [
    "pkg.add_num(2, 10)"
   ]
  },
  {
   "cell_type": "code",
   "execution_count": 5,
   "id": "38c49cf8",
   "metadata": {},
   "outputs": [
    {
     "data": {
      "text/plain": [
       "-8"
      ]
     },
     "execution_count": 5,
     "metadata": {},
     "output_type": "execute_result"
    }
   ],
   "source": [
    "pkg.subtract_num(2, 10)"
   ]
  }
 ],
 "metadata": {
  "kernelspec": {
   "display_name": ".venv",
   "language": "python",
   "name": "python3"
  },
  "language_info": {
   "codemirror_mode": {
    "name": "ipython",
    "version": 3
   },
   "file_extension": ".py",
   "mimetype": "text/x-python",
   "name": "python",
   "nbconvert_exporter": "python",
   "pygments_lexer": "ipython3",
   "version": "3.12.3"
  }
 },
 "nbformat": 4,
 "nbformat_minor": 5
}
